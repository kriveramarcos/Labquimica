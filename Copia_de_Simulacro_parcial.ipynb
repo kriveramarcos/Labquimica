{
  "nbformat": 4,
  "nbformat_minor": 0,
  "metadata": {
    "colab": {
      "provenance": [],
      "authorship_tag": "ABX9TyP9DAPaeoHL2cdHrt1urNZm",
      "include_colab_link": true
    },
    "kernelspec": {
      "name": "python3",
      "display_name": "Python 3"
    },
    "language_info": {
      "name": "python"
    }
  },
  "cells": [
    {
      "cell_type": "markdown",
      "metadata": {
        "id": "view-in-github",
        "colab_type": "text"
      },
      "source": [
        "<a href=\"https://colab.research.google.com/github/kriveramarcos/Labquimica/blob/main/Copia_de_Simulacro_parcial.ipynb\" target=\"_parent\"><img src=\"https://colab.research.google.com/assets/colab-badge.svg\" alt=\"Open In Colab\"/></a>"
      ]
    },
    {
      "cell_type": "code",
      "execution_count": null,
      "metadata": {
        "id": "vYYAQu9lKloR"
      },
      "outputs": [],
      "source": []
    },
    {
      "cell_type": "markdown",
      "source": [
        "10. [COLAB] Mediante un algoritmo usando Python, balancea la siguiente ecuación.\n",
        "Al2O3 + HCl = AlCl3 + H2O\n",
        "Emplea esto para desarrollar un programa donde se ingrese la masa en gramos de Al2O3 y se genere un output con la masa de HCl, AlCl3 y H2O."
      ],
      "metadata": {
        "id": "miaa70OuKwLM"
      }
    },
    {
      "cell_type": "markdown",
      "source": [
        "Simulacro de Examen Parcial\n",
        "\n",
        "Alumno: Kevin Rivera Marcos"
      ],
      "metadata": {
        "id": "VS3i3yWzKnJe"
      }
    },
    {
      "cell_type": "markdown",
      "source": [
        "6. [COLAB] Indicar cuántas estructuras isoméricas existen para la fórmula molecular C3H6O. Deduce en un colab el número de enlaces en la representación de Lewis antes de proponer las estructuras."
      ],
      "metadata": {
        "id": "wD10EWT9L3w1"
      }
    },
    {
      "cell_type": "code",
      "source": [
        "# Deduccion del numero de en laces\n",
        "numero_carbono = 3\n",
        "numero_hidrogeno = 6\n",
        "numero_oxigeno = 1\n",
        "\n",
        "electr_valencia_carbono = 4\n",
        "electr_valencia_carbono = 4\n"
      ],
      "metadata": {
        "id": "MhzZ3c8STZBN"
      },
      "execution_count": null,
      "outputs": []
    },
    {
      "cell_type": "code",
      "source": [
        "# Se ingresan las masas molares de cada compuesto Al2O3, HCl, AlCl3 y H2O en g/mol\n",
        "molar_masa_Al2O3 = 101.96  # g/mol\n",
        "molar_masa_HCl = 36.46    # g/mol\n",
        "molar_masa_AlCl3 = 133.34  # g/mol\n",
        "molar_masa_H2O = 18.02    # g/mol\n",
        "\n",
        "# Se pide usuario que ingrese la masa de Al2O3 en gramos\n",
        "masa_Al2O3 = float(input(\"Ingresa la masa de Al2O3 en gramos: \"))\n",
        "\n",
        "# Se calculan las moles de Al2O3\n",
        "moles_Al2O3 = masa_Al2O3 / molar_masa_Al2O3\n",
        "\n",
        "# Se usa la relación estequiométrica de la ecuación balanceada para calcular los moles de HCl, AlCl3 y H2O\n",
        "moles_HCl = moles_Al2O3 * 6\n",
        "moles_AlCl3 = moles_Al2O3 * 2\n",
        "moles_H2O = moles_Al2O3 * 3\n",
        "\n",
        "# Se Calcula las masas correspondientes\n",
        "masa_HCl = moles_HCl * molar_masa_HCl\n",
        "masa_AlCl3 = moles_AlCl3 * molar_masa_AlCl3\n",
        "masa_H2O = moles_H2O * molar_masa_H2O\n",
        "\n",
        "# Se muestran los resultados\n",
        "print(f\"La masa de HCl formada es: {masa_HCl:.2f} gramos\")\n",
        "print(f\"La masa de AlCl3 formada es: {masa_AlCl3:.2f} gramos\")\n",
        "print(f\"La masa de H2O formada es: {masa_H2O:.2f} gramos\")"
      ],
      "metadata": {
        "colab": {
          "base_uri": "https://localhost:8080/"
        },
        "id": "81cPyoHNK4bE",
        "outputId": "6a5b8cae-00d7-47fb-a5e5-6837d36ac775"
      },
      "execution_count": null,
      "outputs": [
        {
          "output_type": "stream",
          "name": "stdout",
          "text": [
            "Ingresa la masa de Al2O3 en gramos: 48\n",
            "La masa de HCl formada es: 102.99 gramos\n",
            "La masa de AlCl3 formada es: 125.55 gramos\n",
            "La masa de H2O formada es: 25.45 gramos\n"
          ]
        }
      ]
    },
    {
      "cell_type": "code",
      "source": [],
      "metadata": {
        "id": "OJWx2qacMXid"
      },
      "execution_count": null,
      "outputs": []
    },
    {
      "cell_type": "code",
      "source": [],
      "metadata": {
        "id": "7Bc-JKmiMXjM"
      },
      "execution_count": null,
      "outputs": []
    }
  ]
}