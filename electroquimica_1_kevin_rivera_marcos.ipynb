{
  "nbformat": 4,
  "nbformat_minor": 0,
  "metadata": {
    "colab": {
      "provenance": [],
      "name": "electroquimica_1_kevin_rivera_marcos.ipynb",
      "include_colab_link": true
    },
    "kernelspec": {
      "name": "python3",
      "display_name": "Python 3"
    },
    "language_info": {
      "name": "python"
    }
  },
  "cells": [
    {
      "cell_type": "markdown",
      "metadata": {
        "id": "view-in-github",
        "colab_type": "text"
      },
      "source": [
        "<a href=\"https://colab.research.google.com/github/kriveramarcos/Labquimica/blob/main/electroquimica_1_kevin_rivera_marcos.ipynb\" target=\"_parent\"><img src=\"https://colab.research.google.com/assets/colab-badge.svg\" alt=\"Open In Colab\"/></a>"
      ]
    },
    {
      "cell_type": "markdown",
      "source": [
        "**ECUACIONES REDOX**"
      ],
      "metadata": {
        "id": "nckLV2K8thFQ"
      }
    },
    {
      "cell_type": "markdown",
      "source": [
        "En el siguiente colab se genera un código con la ayuda de la biblioteca sympy con el fin de balancear ecuaciones de typo redox:"
      ],
      "metadata": {
        "id": "EebkVW17sfXA"
      }
    },
    {
      "cell_type": "code",
      "source": [
        "pip install sympy"
      ],
      "metadata": {
        "colab": {
          "base_uri": "https://localhost:8080/"
        },
        "id": "nr0xGdRynGP0",
        "outputId": "607f3eae-b6ea-4cce-b24d-10372e33790b"
      },
      "execution_count": null,
      "outputs": [
        {
          "output_type": "stream",
          "name": "stdout",
          "text": [
            "Requirement already satisfied: sympy in /usr/local/lib/python3.10/dist-packages (1.12)\n",
            "Requirement already satisfied: mpmath>=0.19 in /usr/local/lib/python3.10/dist-packages (from sympy) (1.3.0)\n"
          ]
        }
      ]
    },
    {
      "cell_type": "code",
      "execution_count": null,
      "metadata": {
        "id": "ovBA70ximhbx"
      },
      "outputs": [],
      "source": [
        "from sympy import symbols, Eq, solve\n",
        "\n",
        "def balancear_ecuacion_redox(ecuacion):\n",
        "    # Divide la ecuación en reactantes y productos\n",
        "    partes = ecuacion.split('->')\n",
        "    reactantes = partes[0].split('+')\n",
        "    productos = partes[1].split('+')\n",
        "\n",
        "    # Procesa los elementos en los reactantes\n",
        "    reaccion = []\n",
        "    coeficientes = {}\n",
        "    electrones = symbols('e-')\n",
        "    reaccion.append(Eq(electrones, 0))\n",
        "\n",
        "    for elemento in reactantes:\n",
        "        coeficiente = 1\n",
        "        compuesto = elemento.strip()\n",
        "        if len(compuesto) > 0 and compuesto[0].isdigit():\n",
        "            coeficiente = int(compuesto[0])\n",
        "            compuesto = compuesto[1:].strip()\n",
        "        if compuesto == 'e-':\n",
        "            reaccion[0] = Eq(electrones, coeficiente)\n",
        "        else:\n",
        "            coeficientes[compuesto] = symbols(compuesto)\n",
        "            reaccion.append(Eq(coeficientes[compuesto], coeficiente))\n",
        "\n",
        "    # Procesa los elementos en los productos\n",
        "    for elemento in productos:\n",
        "        coeficiente = 1\n",
        "        compuesto = elemento.strip()\n",
        "        if len(compuesto) > 0 and compuesto[0].isdigit():\n",
        "            coeficiente = int(compuesto[0])\n",
        "            compuesto = compuesto[1:].strip()\n",
        "        if compuesto == 'e-':\n",
        "            reaccion[0] = Eq(electrones, -coeficiente)\n",
        "        else:\n",
        "            coeficientes[compuesto] = symbols(compuesto)\n",
        "            reaccion.append(Eq(coeficientes[compuesto], coeficiente))\n",
        "\n",
        "    # Resuelve el sistema de ecuaciones\n",
        "    solucion = solve(reaccion, list(coeficientes.values()))\n",
        "\n",
        "    # coeficientes balanceados\n",
        "    coeficientes_balanceados = {str(key): solucion[key] for key in solucion}\n",
        "    return coeficientes_balanceados\n",
        "\n",
        "\n",
        "ecuacion_quimica = input(\"Ingresa la ecuación química a balancear (usando '->' para separar reactantes y productos): \")\n",
        "\n",
        "# coeficientes balanceados\n",
        "coeficientes_balanceados = balancear_ecuacion_redox(ecuacion_quimica)\n",
        "\n",
        "\n",
        "print(\"Coeficientes balanceados:\")\n",
        "for elemento, coeficiente in coeficientes_balanceados.items():\n",
        "    print(f\"{elemento}: {coeficiente}\")\n"
      ]
    },
    {
      "cell_type": "markdown",
      "source": [],
      "metadata": {
        "id": "395oAJGAsePB"
      }
    }
  ]
}