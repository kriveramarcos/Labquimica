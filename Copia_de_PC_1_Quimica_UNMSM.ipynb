{
  "nbformat": 4,
  "nbformat_minor": 0,
  "metadata": {
    "colab": {
      "provenance": [],
      "include_colab_link": true
    },
    "kernelspec": {
      "name": "python3",
      "display_name": "Python 3"
    },
    "language_info": {
      "name": "python"
    },
    "widgets": {
      "application/vnd.jupyter.widget-state+json": {
        "8be5393cbe364d5c97b95093cc3e289b": {
          "model_module": "faerun-notebook",
          "model_name": "SmilesDrawerModel",
          "model_module_version": "^0.1.5",
          "state": {
            "_dom_classes": [],
            "_model_module": "faerun-notebook",
            "_model_module_version": "^0.1.5",
            "_model_name": "SmilesDrawerModel",
            "_view_count": null,
            "_view_module": "faerun-notebook",
            "_view_module_version": "^0.1.5",
            "_view_name": "SmilesDrawerView",
            "background": "#1e1e1e",
            "border": true,
            "layout": "IPY_MODEL_f618a3ecdd194bcb8b8eabcc3fad94e3",
            "options": {
              "scale": 1.25
            },
            "output": "svg",
            "theme": "dark",
            "value": [
              [
                "Rxn",
                "C(C1C(C(C(C(O1)O)O)O)O)O.O=O>>C(=O)=O.O"
              ]
            ]
          }
        },
        "f618a3ecdd194bcb8b8eabcc3fad94e3": {
          "model_module": "@jupyter-widgets/base",
          "model_name": "LayoutModel",
          "model_module_version": "1.2.0",
          "state": {
            "_model_module": "@jupyter-widgets/base",
            "_model_module_version": "1.2.0",
            "_model_name": "LayoutModel",
            "_view_count": null,
            "_view_module": "@jupyter-widgets/base",
            "_view_module_version": "1.2.0",
            "_view_name": "LayoutView",
            "align_content": null,
            "align_items": null,
            "align_self": null,
            "border": null,
            "bottom": null,
            "display": null,
            "flex": null,
            "flex_flow": null,
            "grid_area": null,
            "grid_auto_columns": null,
            "grid_auto_flow": null,
            "grid_auto_rows": null,
            "grid_column": null,
            "grid_gap": null,
            "grid_row": null,
            "grid_template_areas": null,
            "grid_template_columns": null,
            "grid_template_rows": null,
            "height": null,
            "justify_content": null,
            "justify_items": null,
            "left": null,
            "margin": null,
            "max_height": null,
            "max_width": null,
            "min_height": null,
            "min_width": null,
            "object_fit": null,
            "object_position": null,
            "order": null,
            "overflow": null,
            "overflow_x": null,
            "overflow_y": null,
            "padding": null,
            "right": null,
            "top": null,
            "visibility": null,
            "width": null
          }
        }
      }
    }
  },
  "cells": [
    {
      "cell_type": "markdown",
      "metadata": {
        "id": "view-in-github",
        "colab_type": "text"
      },
      "source": [
        "<a href=\"https://colab.research.google.com/github/kriveramarcos/Labquimica/blob/main/Copia_de_PC_1_Quimica_UNMSM.ipynb\" target=\"_parent\"><img src=\"https://colab.research.google.com/assets/colab-badge.svg\" alt=\"Open In Colab\"/></a>"
      ]
    },
    {
      "cell_type": "markdown",
      "source": [
        "$$\\Large \\textit{UNMSM | Química}$$\n",
        "$$\\large \\textbf{PC Nº1 | Materia y clasificación}$$\n",
        "\n",
        "_Profesor: Jesus Alvarado Huayhuaz_"
      ],
      "metadata": {
        "id": "sDJAjbaQOj4x"
      }
    },
    {
      "cell_type": "markdown",
      "source": [
        "**ALUMNO: KEVIN RIVERA MARCOS**"
      ],
      "metadata": {
        "id": "I8yMdh6LgTrS"
      }
    },
    {
      "cell_type": "markdown",
      "source": [
        "Todas las indicaciones para la presentación de la práctica son explicadas en clase y brindadas en el material de enunciado de preguntas en formato PDF."
      ],
      "metadata": {
        "id": "_DsTzWLoP7Fy"
      }
    },
    {
      "cell_type": "markdown",
      "source": [
        "## Pregunta 1: Sobre el ABC de python (4 puntos)"
      ],
      "metadata": {
        "id": "obD7c2igOD6t"
      }
    },
    {
      "cell_type": "markdown",
      "source": [
        "Durante la semana de revisión del material \"ABC de python\", reflexiona sobre qué conceptos aprendiste con claridad y cuáles consideras los más desafiantes. A continuación resuelve los siguiente ejercicios, puedes ayudarte del material en http://bit.ly/3YKICSZ."
      ],
      "metadata": {
        "id": "emt93S7dL7QH"
      }
    },
    {
      "cell_type": "code",
      "source": [
        "# Imprime la versión de python que usas y las palabras reservadas de python para esa versión."
      ],
      "metadata": {
        "id": "6mJvqMN0LTU8"
      },
      "execution_count": null,
      "outputs": []
    },
    {
      "cell_type": "code",
      "source": [
        "Python 3.11.5\n",
        "\n",
        "PS C:\\Users\\Kevin\\Desktop\\PYTHON Kevin> & C:/Users/Kevin/AppData/Local/Programs/Python/Python311/python.exe \"c:/Users/Kevin/Desktop/PYTHON Kevin/Practica 1 - Kevin Rivera Marcos/Practica 1.py\"\n",
        "['False', 'None', 'True', 'and', 'as', 'assert', 'async', 'await', 'break', 'class', 'continue', 'def', 'del', 'elif', 'else', 'except', 'finally', 'for', 'from', 'global', 'if', 'import', 'in', 'is', 'lambda', 'nonlocal', 'not', 'or', 'pass', 'raise', 'return', 'try', 'while', 'with', 'yield']\n",
        "PS C:\\Users\\Kevin\\Desktop\\PYTHON Kevin>"
      ],
      "metadata": {
        "id": "Y9H3_33AhQxq"
      },
      "execution_count": null,
      "outputs": []
    },
    {
      "cell_type": "code",
      "source": [
        "# Crea una matriz de 3x3 e imprime la suma de los elementos en su diagonal (traza)."
      ],
      "metadata": {
        "id": "MxDzGypdLTXh"
      },
      "execution_count": null,
      "outputs": []
    },
    {
      "cell_type": "code",
      "source": [
        "# Se crea una matriz de 3x3\n",
        "matriz = [\n",
        "    [1, 2, 3],\n",
        "    [4, 5, 6],\n",
        "    [7, 8, 9]\n",
        "]\n",
        "\n",
        "# Se calcula la suma de los elementos en la diagonal principal (traza)\n",
        "suma_diagonal_principal = sum(matriz[i][i] for i in range(3))\n",
        "\n",
        "# Se calcula la suma de los elementos en la diagonal secundaria\n",
        "suma_diagonal_secundaria = sum(matriz[i][2 - i] for i in range(3))\n",
        "\n",
        "# Para imprimmir la matriz\n",
        "print(\"Matriz:\")\n",
        "for fila in matriz:\n",
        "    print(fila)\n",
        "\n",
        "# Se muestra o imprime la suma de la diagonal principal y secundaria\n",
        "print(\"Suma de la diagonal principal:\", suma_diagonal_principal)\n",
        "print(\"Suma de la diagonal secundaria:\", suma_diagonal_secundaria)"
      ],
      "metadata": {
        "colab": {
          "base_uri": "https://localhost:8080/"
        },
        "id": "O5RyCz_ThkrE",
        "outputId": "e8c819f2-0bed-4e0d-e0bd-cb73379a4b12"
      },
      "execution_count": null,
      "outputs": [
        {
          "output_type": "stream",
          "name": "stdout",
          "text": [
            "Matriz:\n",
            "[1, 2, 3]\n",
            "[4, 5, 6]\n",
            "[7, 8, 9]\n",
            "Suma de la diagonal principal: 15\n",
            "Suma de la diagonal secundaria: 15\n"
          ]
        }
      ]
    },
    {
      "cell_type": "code",
      "source": [
        "# Guarda como variable la masa atómica de los elementos C, H y O, e imprime la masa molecular del etanol."
      ],
      "metadata": {
        "id": "MyhNX7JmLTSe"
      },
      "execution_count": null,
      "outputs": []
    },
    {
      "cell_type": "code",
      "source": [
        "# Masas atómicas (manteniendo igual número de cifras significativas)\n",
        "masa_C = 12.01  # u\n",
        "masa_H = 1.008  # u\n",
        "masa_O = 15.99  # u\n",
        "\n",
        "# Fórmula molecular del etanol: C2H6O\n",
        "num_C = 2\n",
        "num_H = 6\n",
        "num_O = 1\n",
        "\n",
        "# Calculando la masa molecular\n",
        "masa_molecular = (num_C * masa_C) + (num_H * masa_H) + (num_O * masa_O)\n",
        "\n",
        "# Restringiendo el resultado a 4 cifras significativas\n",
        "masa_molecular_restringida = round(masa_molecular, 4)\n",
        "\n",
        "# Mostrando la masa molecular del etanol\n",
        "print(\"La masa molecular del etanol (C2H5OH) es :\", masa_molecular_restringida, \"u\")"
      ],
      "metadata": {
        "colab": {
          "base_uri": "https://localhost:8080/"
        },
        "id": "3tORoy2Uix-Q",
        "outputId": "7bcea268-78c4-4a79-eee1-39260abfd444"
      },
      "execution_count": null,
      "outputs": [
        {
          "output_type": "stream",
          "name": "stdout",
          "text": [
            "La masa molecular del etanol (C2H5OH) es : 46.058 u\n"
          ]
        }
      ]
    },
    {
      "cell_type": "code",
      "source": [
        "# Busca la temperatura de fusión en Celsius de 5 metales y guárdalos en una lista. Imprime las temperaturas en Kelvin"
      ],
      "metadata": {
        "id": "NCOnJ0FwgLLc"
      },
      "execution_count": null,
      "outputs": []
    },
    {
      "cell_type": "code",
      "source": [
        "# Temperaturas de fusión en Celsius de 5 metales\n",
        "temperatura_fusion_cobre = 1085\n",
        "temperatura_fusion_plata = 961.8\n",
        "temperatura_fusion_oro = 1064\n",
        "temperatura_fusion_aluminio = 660.3\n",
        "temperatura_fusion_niquel = 1455\n",
        "\n",
        "# Función para convertir Celsius a Kelvin\n",
        "def celsius_a_kelvin(celsius):\n",
        "    return celsius + 273.15\n",
        "\n",
        "# Convertir las temperaturas a Kelvin\n",
        "kelvin_cobre = celsius_a_kelvin(temperatura_fusion_cobre)\n",
        "kelvin_plata = celsius_a_kelvin(temperatura_fusion_plata)\n",
        "kelvin_oro = celsius_a_kelvin(temperatura_fusion_oro)\n",
        "kelvin_aluminio = celsius_a_kelvin(temperatura_fusion_aluminio)\n",
        "kelvin_niquel = celsius_a_kelvin(temperatura_fusion_niquel)\n",
        "\n",
        "# Redondear las temperaturas a 4 cifras significativas\n",
        "kelvin_cobre = round(kelvin_cobre, 4)\n",
        "kelvin_plata = round(kelvin_plata, 4)\n",
        "kelvin_oro = round(kelvin_oro, 4)\n",
        "kelvin_aluminio = round(kelvin_aluminio, 4)\n",
        "kelvin_niquel = round(kelvin_niquel, 4)\n",
        "\n",
        "# Imprimir las temperaturas en Kelvin\n",
        "print(\"Temperatura de fusión del cobre:\", kelvin_cobre, \"K\")\n",
        "print(\"Temperatura de fusión de la plata:\", kelvin_plata, \"K\")\n",
        "print(\"Temperatura de fusión del oro:\", kelvin_oro, \"K\")\n",
        "print(\"Temperatura de fusión del aluminio:\", kelvin_aluminio, \"K\")\n",
        "print(\"Temperatura de fusión del niquel:\", kelvin_niquel, \"K\")"
      ],
      "metadata": {
        "colab": {
          "base_uri": "https://localhost:8080/"
        },
        "id": "Ftz5BYWegY2M",
        "outputId": "be15c739-222c-4c23-fa86-5912a49a04fb"
      },
      "execution_count": null,
      "outputs": [
        {
          "output_type": "stream",
          "name": "stdout",
          "text": [
            "Temperatura de fusión del cobre: 1358.15 K\n",
            "Temperatura de fusión de la plata: 1234.95 K\n",
            "Temperatura de fusión del oro: 1337.15 K\n",
            "Temperatura de fusión del aluminio: 933.45 K\n",
            "Temperatura de fusión del niquel: 1728.15 K\n"
          ]
        }
      ]
    },
    {
      "cell_type": "markdown",
      "source": [
        "## Pregunta 2: Operaciones (4 puntos)"
      ],
      "metadata": {
        "id": "epzOadagLfPi"
      }
    },
    {
      "cell_type": "markdown",
      "source": [
        "Escribe un programa que lea repetidamente elementos químicos en español hasta que el usuario introduzca “fin”. Una vez se haya introducido “fin”, muestra por pantalla (o sea imprime) el total de elementos ingresados. Si el usuario introduce cualquier otra cosa que no sea un elemento químico, detecta su fallo usando try y except, muestra un mensaje de error y pasa al siguiente elemento."
      ],
      "metadata": {
        "id": "MbAEOGPsjOWZ"
      }
    },
    {
      "cell_type": "code",
      "source": [
        "# Nombres en español de los 118 elementos químicos\n",
        "nombres_elementos = {\n",
        "    \"hidrogeno\", \"helio\", \"litio\", \"berilio\", \"boro\", \"carbono\", \"nitrogeno\",\n",
        "    \"oxigeno\", \"fluor\", \"neon\", \"sodio\", \"magnesio\", \"aluminio\", \"silicio\",\n",
        "    \"fosforo\", \"azufre\", \"cloro\", \"argon\", \"potasio\", \"calcio\", \"escandio\",\n",
        "    \"titanio\", \"vanadio\", \"cromo\", \"manganeso\", \"hierro\", \"cobalto\", \"níquel\",\n",
        "    \"cobre\", \"zinc\", \"galio\", \"germanio\", \"arsénico\", \"selenio\", \"bromo\",\n",
        "    \"criptón\", \"rubidio\", \"estroncio\", \"itrio\", \"circonio\", \"niobio\",\n",
        "    \"molibdeno\", \"tecnecio\", \"rutenio\", \"rodio\", \"paladio\", \"plata\", \"cadmio\",\n",
        "    \"indio\", \"estaño\", \"antimonio\", \"telurio\", \"yodo\", \"xenon\", \"cesio\",\n",
        "    \"bario\", \"lantano\", \"cerio\", \"praseodimio\", \"neodimio\", \"prometio\",\n",
        "    \"samario\", \"europio\", \"gadolinio\", \"terbio\", \"disprosio\", \"holmio\",\n",
        "    \"erbio\", \"tulio\", \"iterbio\", \"lutecio\", \"hafnio\", \"tantalo\", \"tungsteno\",\n",
        "    \"renio\", \"osmio\", \"iridio\", \"platino\", \"oro\", \"mercurio\", \"talio\",\n",
        "    \"plomo\", \"bismuto\", \"polonio\", \"astato\", \"radon\", \"francio\", \"radio\",\n",
        "    \"actinio\", \"torio\", \"proactinio\", \"uranio\", \"neptunio\", \"plutonio\",\n",
        "    \"americio\", \"curio\", \"berkelio\", \"californio\", \"einsteinio\", \"fermio\",\n",
        "    \"mendelevio\", \"nobelio\", \"lawrencio\", \"rutherfordio\", \"dubnio\",\n",
        "    \"seaborgio\", \"bohrio\", \"hassio\", \"meitnerio\", \"darmstadtio\", \"roentgenio\",\n",
        "    \"copernicio\", \"nihonio\", \"flerovio\", \"moscovio\", \"livermorio\", \"tennessino\",\n",
        "    \"oganesson\"\n",
        "}\n",
        "\n",
        "elementos_ingresados = set()\n",
        "\n",
        "while True:\n",
        "    entrada = input(\"Introduce un elemento químico en español (o 'fin' para terminar): \").lower()\n",
        "\n",
        "    if entrada == 'fin':\n",
        "        break\n",
        "\n",
        "    if entrada in nombres_elementos:\n",
        "        elementos_ingresados.add(entrada)\n",
        "    else:\n",
        "        print(\"Error: Vuelve a introducir un nombre de elemento químico válido.\")\n",
        "\n",
        "cantidad_elementos = len(elementos_ingresados)\n",
        "print(\"\\nElementos químicos ingresados:\")\n",
        "for elemento in elementos_ingresados:\n",
        "    print(elemento)\n",
        "print(\"Total de elementos ingresados:\", cantidad_elementos)"
      ],
      "metadata": {
        "id": "gJGX0p5QLetj",
        "colab": {
          "base_uri": "https://localhost:8080/"
        },
        "outputId": "633031d7-a204-475e-cb85-6a817017ce93"
      },
      "execution_count": null,
      "outputs": [
        {
          "output_type": "stream",
          "name": "stdout",
          "text": [
            "Introduce un elemento químico en español (o 'fin' para terminar): oro\n",
            "Introduce un elemento químico en español (o 'fin' para terminar): plata\n",
            "Introduce un elemento químico en español (o 'fin' para terminar): hierro\n",
            "Introduce un elemento químico en español (o 'fin' para terminar): holaaaa\n",
            "Error: Vuelve a introducir un nombre de elemento químico válido.\n",
            "Introduce un elemento químico en español (o 'fin' para terminar): cloro\n",
            "Introduce un elemento químico en español (o 'fin' para terminar): fin\n",
            "\n",
            "Elementos químicos ingresados:\n",
            "cloro\n",
            "oro\n",
            "plata\n",
            "hierro\n",
            "Total de elementos ingresados: 4\n"
          ]
        }
      ]
    },
    {
      "cell_type": "markdown",
      "source": [
        "# Pregunta 3: Conservación de la masa (4 puntos)"
      ],
      "metadata": {
        "id": "8gxSHpD3LZsh"
      }
    },
    {
      "cell_type": "markdown",
      "source": [
        "### Código necesario para generar la imagen"
      ],
      "metadata": {
        "id": "mMV9c3hDl7KL"
      }
    },
    {
      "cell_type": "code",
      "source": [
        "!pip install faerun-notebook==0.1.5b0\n",
        "\n",
        "import ipywidgets as widgets\n",
        "from faerun_notebook import SmilesDrawer\n",
        "from google.colab import output\n",
        "output.enable_custom_widget_manager()"
      ],
      "metadata": {
        "id": "JgF8Ohtbky65"
      },
      "execution_count": null,
      "outputs": []
    },
    {
      "cell_type": "markdown",
      "source": [
        "### Reacción química"
      ],
      "metadata": {
        "id": "5sLC10D_oSrV"
      }
    },
    {
      "cell_type": "markdown",
      "source": [
        "Demuestra cómo se cumple la conservación de la masa en la siguiente reacción química. Sugerencia: hacer un balance estequiométrico y luego emplear la masa molecular de reactivos y productos."
      ],
      "metadata": {
        "id": "OVRhAzaVmD86"
      }
    },
    {
      "cell_type": "code",
      "source": [
        "SmilesDrawer(value=[(\"Rxn\", \"C(C1C(C(C(C(O1)O)O)O)O)O.O=O>>C(=O)=O.O\")], theme='dark', background=\"#1e1e1e\", options={'scale': 1.25})"
      ],
      "metadata": {
        "colab": {
          "base_uri": "https://localhost:8080/",
          "height": 289,
          "referenced_widgets": [
            "8be5393cbe364d5c97b95093cc3e289b",
            "f618a3ecdd194bcb8b8eabcc3fad94e3"
          ]
        },
        "id": "CC0mAXWmnYyN",
        "outputId": "27cab36f-01ed-4134-b137-da417a82eed4"
      },
      "execution_count": 16,
      "outputs": [
        {
          "output_type": "display_data",
          "data": {
            "text/plain": [
              "SmilesDrawer(background='#1e1e1e', options={'scale': 1.25}, theme='dark', value=[('Rxn', 'C(C1C(C(C(C(O1)O)O)O…"
            ],
            "application/vnd.jupyter.widget-view+json": {
              "version_major": 2,
              "version_minor": 0,
              "model_id": "8be5393cbe364d5c97b95093cc3e289b"
            }
          },
          "metadata": {
            "application/vnd.jupyter.widget-view+json": {
              "colab": {
                "custom_widget_manager": {
                  "url": "https://ssl.gstatic.com/colaboratory-static/widgets/colab-cdn-widget-manager/b3e629b1971e1542/manager.min.js"
                }
              }
            }
          }
        }
      ]
    },
    {
      "cell_type": "markdown",
      "source": [
        "Para demostrar cómo se cumple la conservación de la masa en una reacción química, necesitamos comparar las masas de los reactivos antes de la reacción con las masas de los productos después de la reacción. Esto se hace calculando la masa total en ambos lados de la ecuación y verificando que sean iguales.\n",
        "\n",
        "Dada la reacción química que ya está balanceada:\n",
        "\n",
        "4(O6C6H5) + 17(O2) -> 24(CO2) + 10(H2O)\n",
        "\n",
        "Vamos a calcular las masas de los reactivos y los productos utilizando las masas molares de los elementos:\n",
        "\n",
        "Masa molar de C = 12.01 g/mol\n",
        "Masa molar de O = 16.00 g/mol\n",
        "Masa molar de H = 1.01 g/mol\n",
        "\n",
        "REACTIVOS\n",
        "Masa molar de 4(O6C6H5) = (6 * 12.01 g/mol) + (6 * 16.00 g/mol) + (5 * 1.01 g/mol) = 4*(173.11 g/mol)=692.44 g/mol\n",
        "Masa molar de 17(O2) = 17*(2 * 16.00 g/mol) = 544.00 g/mol\n",
        "Total_reactivos: 1236.44 g/mol\n",
        "\n",
        "PRODUCTOS\n",
        "Masa molar de 24(CO2) = 12.01 g/mol + 2 * 16.00 g/mol = 24*(44.01 g/mol)=1056.24 g/mol\n",
        "Masa molar de 10(H2O) = 2 * 1.01 g/mol + 16.00 g/mol = 10*(18.02 g/mol)=180.20 g/mol\n",
        "Total_productos: 1236.44 g/mol\n",
        "\n",
        "\n",
        "Podemos ver que la masa total de los reactivos (1236.44 g/mol) es igual a la masa total de los productos (1236.44 g/mol). Esto demuestra que la conservación de la masa se cumple en la reacción química dada. La cantidad total de masa antes de la reacción es igual a la cantidad total de masa después de la reacción, lo que confirma la ley de conservación de la masa en las reacciones químicas."
      ],
      "metadata": {
        "id": "ZYSIVQ5X5_mK"
      }
    },
    {
      "cell_type": "code",
      "source": [
        "# Datos de masas molares\n",
        "masa_molar_C = 12.01\n",
        "masa_molar_O = 16.00\n",
        "masa_molar_H = 1.01\n",
        "\n",
        "# Masas de los reactivos y productos\n",
        "masa_reactivos = 4 * (6 * masa_molar_C + 6 * masa_molar_O + 5 * masa_molar_H) + 17 * (2 * masa_molar_O)\n",
        "masa_productos = 24 * (masa_molar_C + 2 * masa_molar_O) + 10 * (2 * masa_molar_H + masa_molar_O)\n",
        "\n",
        "# Comparación de masas\n",
        "if round(masa_reactivos, 2) == round(masa_productos, 2):\n",
        "\n",
        "    mensaje_reactivos = f\"Masa total de los reactivos: {round(masa_reactivos, 2)} g/mol\"\n",
        "    mensaje_productos = f\"Masa total de los productos: {round(masa_productos, 2)} g/mol\"\n",
        "    resultado = \"Las masas de los reactivos y productos son iguales, cumpliendo con la conservación de la masa.\"\n",
        "else:\n",
        "\n",
        "    mensaje_reactivos = f\"Masa total de los reactivos: {round(masa_reactivos, 2)} g/mol\"\n",
        "    mensaje_productos = f\"Masa total de los productos: {round(masa_productos, 2)} g/mol\"\n",
        "    resultado = \"Las masas de los reactivos y productos no son iguales, lo que indica un error en los cálculos o en los datos.\"\n",
        "\n",
        "# Resultado\n",
        "print(\"**Demostración de la conservación de masa**\")\n",
        "print(mensaje_reactivos)\n",
        "print(mensaje_productos)\n",
        "print(resultado)"
      ],
      "metadata": {
        "colab": {
          "base_uri": "https://localhost:8080/"
        },
        "id": "OKeQ_WP4-c6Q",
        "outputId": "bd18fe2b-7ed2-4792-cf10-6211d2898871"
      },
      "execution_count": 18,
      "outputs": [
        {
          "output_type": "stream",
          "name": "stdout",
          "text": [
            "**Demostración de la conservación de masa**\n",
            "Masa total de los reactivos: 1236.44 g/mol\n",
            "Masa total de los productos: 1236.44 g/mol\n",
            "Las masas de los reactivos y productos son iguales, cumpliendo con la conservación de la masa.\n"
          ]
        }
      ]
    },
    {
      "cell_type": "markdown",
      "source": [
        "## Pregunta 4: Notación científica (4 puntos)"
      ],
      "metadata": {
        "id": "Rh-nAUiKhJNB"
      }
    },
    {
      "cell_type": "markdown",
      "source": [
        "Imprime las siguientes operaciones según la notación científica:\n",
        "\n",
        "(1) $1.321 \\times 10^{-4} + 8.5 \\times 10^{-2}$\n",
        "\n",
        "(2) $1.71 \\times 10^{3} - 2.01 \\times 10^{2}\\$\n",
        "\n",
        "(3) $(7.4 \\times 10^5)(7.2 \\times 10^4)$\n",
        "\n",
        "(4) $(7.4 \\times 10^5)/(7.2 \\times 10^4)$"
      ],
      "metadata": {
        "id": "NIkI45Xdqqnt"
      }
    },
    {
      "cell_type": "code",
      "source": [
        "#Se busca que el resultado final mantenga la misma cantidad de cifras significativas que los números base para que correponda a la notación científica\n",
        "\n",
        "# Operación (1)\n",
        "resultado_1 = 1.321e-4 + 8.5e-2\n",
        "resultado_1_limitado = round(resultado_1, 2)\n",
        "print(\"El resultado de (1) según la notación científica es:\", \"{:.2e}\".format(resultado_1_limitado))\n",
        "\n",
        "# Operación (2)\n",
        "resultado_2 = 1.71e3 - 2.01e2\n",
        "resultado_2_limitado = round(resultado_2, 3)\n",
        "print(\"El resultado de (2) según la notación científica es:\", \"{:.3e}\".format(resultado_2_limitado))\n",
        "\n",
        "# Operación (3)\n",
        "resultado_3 = (7.4e5) * (7.2e4)\n",
        "resultado_3_limitado = round(resultado_3, 2)\n",
        "print(\"El resultado de (3) según la notación científica es:\", \"{:.2e}\".format(resultado_3_limitado))\n",
        "\n",
        "# Operación (4)\n",
        "resultado_4 = (7.4e5) / (7.2e4)\n",
        "resultado_4_limitado = round(resultado_4, 2)\n",
        "print(\"El resultado de (4) según la notación científica es:\", \"{:.2e}\".format(resultado_4_limitado))\n"
      ],
      "metadata": {
        "colab": {
          "base_uri": "https://localhost:8080/"
        },
        "id": "_OM7-ieHoP5d",
        "outputId": "756da181-c545-4eaf-878e-cdec7771825f"
      },
      "execution_count": 11,
      "outputs": [
        {
          "output_type": "stream",
          "name": "stdout",
          "text": [
            "El resultado de (1) según la notación científica es: 9.00e-02\n",
            "El resultado de (2) según la notación científica es: 1.509e+03\n",
            "El resultado de (3) según la notación científica es: 5.33e+10\n",
            "El resultado de (4) según la notación científica es: 1.03e+01\n"
          ]
        }
      ]
    },
    {
      "cell_type": "markdown",
      "source": [
        "## Pregunta 5: Método científico (4 puntos)"
      ],
      "metadata": {
        "id": "CuzCcXJghR14"
      }
    },
    {
      "cell_type": "markdown",
      "source": [],
      "metadata": {
        "id": "N1EN5U-ZvpU9"
      }
    },
    {
      "cell_type": "markdown",
      "source": [
        "Artículo: https://bit.ly/3surZ1W\n",
        "Leer el siguiente artículo y explica cómo es aplicado el método científico. Emplea como máximo 300 palabras."
      ],
      "metadata": {
        "id": "WngRSR-Rhmx1"
      }
    },
    {
      "cell_type": "markdown",
      "source": [
        "En el texto se habla sobre el análisis de LK-99 que ejemplifica la aplicación del método científico en las siguientes etapas:\n",
        "\n",
        "Observación y Pregunta: Se observaron comportamientos similares a superconductores en LK-99, llevando a preguntarse si podría ser un superconductor a temperatura ambiente.\n",
        "\n",
        "Hipótesis: Una hipótesis surgió, basada en la levitación y las caídas de resistividad observadas en el material.\n",
        "\n",
        "Experimentación y Datos: Equipos realizaron experimentos para verificar la hipótesis, recopilando datos en el proceso.\n",
        "\n",
        "Análisis de Datos: Varias explicaciones alternativas, como el ferromagnetismo, se consideraron para los fenómenos observados.\n",
        "\n",
        "Conclusiones: Tras rigurosos análisis y replicaciones, se determinó que las impurezas, como el sulfuro de cobre, explicaban los comportamientos, y LK-99 no era un superconductor a temperatura ambiente.\n",
        "\n",
        "Comunicación de Resultados: Los hallazgos se compartieron en publicaciones científicas, permitiendo la revisión y verificación por otros científicos.\n",
        "\n",
        "Validación Adicional: Se espera la validación final a través del equipo original compartiendo sus muestras."
      ],
      "metadata": {
        "id": "zL69yKiMvRZr"
      }
    }
  ]
}