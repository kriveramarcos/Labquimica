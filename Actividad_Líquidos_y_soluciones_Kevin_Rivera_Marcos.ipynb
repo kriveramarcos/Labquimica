{
  "nbformat": 4,
  "nbformat_minor": 0,
  "metadata": {
    "colab": {
      "provenance": [],
      "authorship_tag": "ABX9TyOx1uKRKevL1zD+iMO5rEc0",
      "include_colab_link": true
    },
    "kernelspec": {
      "name": "python3",
      "display_name": "Python 3"
    },
    "language_info": {
      "name": "python"
    }
  },
  "cells": [
    {
      "cell_type": "markdown",
      "metadata": {
        "id": "view-in-github",
        "colab_type": "text"
      },
      "source": [
        "<a href=\"https://colab.research.google.com/github/kriveramarcos/Labquimica/blob/main/Actividad_L%C3%ADquidos_y_soluciones_Kevin_Rivera_Marcos.ipynb\" target=\"_parent\"><img src=\"https://colab.research.google.com/assets/colab-badge.svg\" alt=\"Open In Colab\"/></a>"
      ]
    },
    {
      "cell_type": "markdown",
      "source": [
        "## **LÍQUIDOS Y GASES**\n",
        "\n",
        "## **ALUMNO: RIVERA MARCOS KEVIN**\n",
        "## **CODIGO: 23200299**"
      ],
      "metadata": {
        "id": "MTfuAZjKtAPd"
      }
    },
    {
      "cell_type": "code",
      "source": [
        "#PREGUNTA 11.18\n",
        "#Qué tipos de fuerzas de atracción se deben superar para:\n",
        "#a) Fundir el hielo\n",
        "#b) Hacer entrar en ebullición el bromo molecular\n",
        "#c) Fundir el yodo sólido\n",
        "#d) Disociar el F2 en átomos de F\n",
        "\n",
        "#a) Para convertir el hielo en agua, se necesita romper los enlaces de hidrógeno\n",
        "#que mantienen las moléculas de agua juntas.\n",
        "\n",
        "#b) Si se quiere hacer que el bromo entre en ebullición (se convierta en gas),\n",
        "#se requiere vencer las fuerzas de London producido entre las moléculas no\n",
        "#polares del bromo\n",
        "\n",
        "#c) Para fundir el yodo sólido, también se requiere vencer las fuerzas de\n",
        "#disperisión de London siendo estas producidas por moléculas no polares de yodo\n",
        "\n",
        "#d) Para separar las moléculas de F2 en átomos, se tendrá que\n",
        "#romper los enlaces covalentes que mantienen unidos a los átomos de flúor.\n"
      ],
      "metadata": {
        "id": "jH0VqEfubFKS"
      },
      "execution_count": null,
      "outputs": []
    },
    {
      "cell_type": "code",
      "source": [
        "#FUERZAS INTERMOLECULARES"
      ],
      "metadata": {
        "id": "W3XOpv8SbW7M"
      },
      "execution_count": null,
      "outputs": []
    },
    {
      "cell_type": "code",
      "execution_count": null,
      "metadata": {
        "id": "o2YP3DxLbFYy"
      },
      "outputs": [],
      "source": [
        "#PREGUNTA 11.94\n",
        "#¿Cuál de las siguientes propiedades\n",
        "#indica que las fuerzas intermoleculares de un líquido son fuertes?\n",
        "\n",
        "#a)tensión superficial muy baja\n",
        "#b)temmperatura crítica muy baja\n",
        "#c)punto de ebullición muy bajo\n",
        "#d) presión de vapor muy baja\n",
        "\n",
        "#Rpta: c)punto de ebullición muy bajo\n",
        "\n",
        "#Cuando las fuerzas que mantienen juntas las moléculas en un líquido son fuertes,\n",
        "#se requiere aplicar más calor para hacer que el líquido se convierta en gas.\n",
        "#Esto hace que el punto en el que hierve el líquido sea más alto.\n",
        "\n",
        "#Por ello, si el punto de ebullición es muy bajo, significa que las fuerzas que\n",
        "#mantienen unidas las moléculas en el líquido son débiles.\n",
        "\n",
        "\n"
      ]
    },
    {
      "cell_type": "code",
      "source": [
        "#PREGUNTA 11.5\n",
        "#¿Qué propiedades físicas se deberían considerar al comparar la intensidad de\n",
        "#las fuerzas intermoleculares en los sólidos y los líquidos?\n",
        "\n",
        "#Se podría considerar los puntos de fusión/ebullición; pues en el caso de los\n",
        "#sólidos estos son  más altos debido a fuerzas más fuertes. También está la\n",
        "#densidad y dureza donde igualmente en el caso de los sólidos estas propiedades\n",
        "#son de mayor valor.\n",
        "\n",
        "#Por otro lado los líquidos son mejores disolventes y menos compresibles y en\n",
        "#cuanto a la conductividad eléctrica, los sólidos tanto covalentes como iónicos\n",
        "#son malos conductores en estado sólido."
      ],
      "metadata": {
        "id": "UW52CSBYdQJb"
      },
      "execution_count": null,
      "outputs": []
    },
    {
      "cell_type": "code",
      "source": [
        "#PREGUNTA 11.4\n",
        "#Mencione alguna evidencia de que todos los átomos y moléculas ejercen entre sí\n",
        "#fuerzas de atracción.\n",
        "\n",
        "#Un evidencia puede ser con respecto a las propiedades coligativas que son\n",
        "#características de las soluciones que dependen de la cantidad de sustancia\n",
        "#disuelta y no de su identidad. Estas propiedades incluyen la disminución de\n",
        "#la presión de vapor, la reducción del punto de congelación, el aumento del\n",
        "#punto de ebullición y la presión osmótica. Todas estas señalan interacciones\n",
        "#entre las partículas en la solución y se hacen más evidentes a medida que\n",
        "#aumenta la concentración de sustancia disuelta.\""
      ],
      "metadata": {
        "id": "KQAPq2bOqy0g"
      },
      "execution_count": null,
      "outputs": []
    },
    {
      "cell_type": "code",
      "source": [
        "#PREGUNTA 11.6\n",
        "#¿Cuáles elementos pueden participar en los enlaces de hidrógeno?¿Por qué el\n",
        "#hidrógeno es único en este tipo de iteracción?\n",
        "\n",
        "#El hidrógeno se destaca al formar enlaces especiales con elementos\n",
        "#electronegativos como oxígeno, nitrógeno y flúor. Esto se debe a que\n",
        "#el hidrógeno, al perder su electrón, adquiere una carga parcialmente\n",
        "#positiva, mientras que el otro elemento se vuelve parcialmente negativo.\n",
        "#Esta atracción intensa, conocida como enlace de hidrógeno, desempeña un\n",
        "#papel clave en propiedades notables como la capacidad calorífica del agua\n",
        "#y es esencial en procesos biológicos cruciales como la estructura del ADN."
      ],
      "metadata": {
        "id": "UypwmF0ortqS"
      },
      "execution_count": null,
      "outputs": []
    },
    {
      "cell_type": "code",
      "source": [
        "#PROPIEDADES DE LÍQUIDOS"
      ],
      "metadata": {
        "id": "tsEG6YPCr_0a"
      },
      "execution_count": null,
      "outputs": []
    },
    {
      "cell_type": "code",
      "source": [
        "#PREGUNTA 11.29\n",
        "#¿Por qué el hielo es menos denso que el agua?\n",
        "\n",
        "#Esto es debido a que cuando el agua se enfría y se convierte en hielo, las\n",
        "#moléculas de agua se organizan en una estructura con espacios abiertos, lo\n",
        "#que hace que el hielo sea menos denso que el agua líquida. Por esta razón,\n",
        "#los cubos de hielo flotan en un vaso de agua en lugar de hundirse. Esta\n",
        "#propiedad es crucial para la vida acuática, ya que evita que los cuerpos\n",
        "#de agua se congelen completamente, permitiendo que la vida continúe en el\n",
        "#agua durante el invierno."
      ],
      "metadata": {
        "id": "untmWCWjsqnN"
      },
      "execution_count": null,
      "outputs": []
    },
    {
      "cell_type": "code",
      "source": [
        "#PREGUNTA 11.30\n",
        "#Las tuberías de aga que están a la interperie se tienen que drenar o aislar\n",
        "#durante el invierno en los climas fríos ¿Por qué?\n",
        "\n",
        "#Esto se debe a que en climas fríos, el agua dentro de las tuberías puede\n",
        "#expandirse al congelarse, lo que ejerce presión y puede causar daños. Para\n",
        "#prevenir esto, es crucial drenar o aislar las tuberías. Drenar evita que\n",
        "#el agua se congele, mientras que el aislamiento mantiene una temperatura\n",
        "#más constante alrededor de las tuberías, reduciendo el riesgo de congelamiento\n",
        "#y daños potenciales."
      ],
      "metadata": {
        "id": "ClBJA_GPtf2Z"
      },
      "execution_count": null,
      "outputs": []
    },
    {
      "cell_type": "code",
      "source": [
        "#PREGUNTA 11.25\n",
        "#Un vaso se puede llenar con agua justo por encima del borde ¿Por qué el agua\n",
        "#no se derrama?\n",
        "\n",
        "#Al llenar un vaso hasta el borde, la superficie del agua se curva ligeramente\n",
        "#hacia arriba debido a la tensión superficial. Esto crea una pequeña elevación\n",
        "#sobre el borde, manteniendo el agua en su lugar sin derramarse. Es como una\n",
        "#pequeña montaña de moléculas de agua. Esta propiedad evita el derrame, pero\n",
        "#si se agrega más agua o se perturba la superficie, la \"montaña\" se rompe y\n",
        "#el agua se derrama."
      ],
      "metadata": {
        "id": "1ON_k3QPuK6o"
      },
      "execution_count": null,
      "outputs": []
    },
    {
      "cell_type": "code",
      "source": [
        "#PREGUNTA 11.28\n",
        "#Por qué la viscocidad de un líquido disminuye con el aumento en su temperatura?\n",
        "\n",
        "#Al calentar un líquido, las moléculas se aceleran, lo que reduce su viscosidad,\n",
        "##haciéndolo menos espeso y más fluido. Un ejemplo es la miel, que se vuelve más\n",
        "#líquida a temperatura ambiente en comparación con el frío. Similarmente, el\n",
        "#aceite de motor es más viscoso cuando está frío, pero fluye con más facilidad\n",
        "#a medida que se calienta."
      ],
      "metadata": {
        "id": "_PoSmYPYuqJ3"
      },
      "execution_count": null,
      "outputs": []
    },
    {
      "cell_type": "code",
      "source": [
        "#SOLUCIONES"
      ],
      "metadata": {
        "id": "ovSqZ5VPu-KQ"
      },
      "execution_count": null,
      "outputs": []
    },
    {
      "cell_type": "code",
      "source": [
        "#PREGUNTA 12.4\n",
        "#A partir de las fuerzas intermoleculares, explique el significado de\n",
        "#\"lo semenjante atrae a lo semejante\"\n",
        "\n",
        "#Cuando combinas sustancias con fuerzas intermoleculares similares,\n",
        "#como agua y acetona, se forman soluciones estables debido a la afinidad\n",
        "#entre sus interacciones. Por ejemplo, agua y acetona se mezclan sin\n",
        "#problemas debido a sus fuerzas dipolo-dipolo.\n",
        "\n",
        "#En contraste, si intentamos combinar sustancias con fuerzas intermoleculares\n",
        "#muy distintas, como agua y aceite, no se mezclan fácilmente y se separan\n",
        "#en capas distintas debido a sus diferencias en interacciones moleculares.\n",
        "#Esto subraya la importancia del principio \"lo semejante atrae a lo semejante\"\n",
        "#en la formación de soluciones."
      ],
      "metadata": {
        "id": "IITWu_2RvrtG"
      },
      "execution_count": null,
      "outputs": []
    },
    {
      "cell_type": "code",
      "source": [
        "#PREGUNTA 12.8\n",
        "#Describa los factores que afectan la solubilidad de un sólido en un líquido\n",
        "#¿Qué significa decir que dos líquidos son miscibles?\n",
        "\n",
        "#Cuando 2 líquidos son miscibles, significa que se pueden mezclar fácilmente\n",
        "#en cualquier proporción para formar una solución uniforme; pues son solubles\n",
        "#entre sí.\n",
        "\n",
        "#Entre los factores mas importantes que afectan la solubilidad de un líquido\n",
        "#con un sólido se encuentra la temperatura; pues al aumentar esta aumenta\n",
        "#también la solubilidad del líquido. Otro factor es la composición del sólido;\n",
        "#pues si se tienen partículas mas pequeñas de este la solubidad sera mayor a\n",
        "#que esté presente en volumenes más compactos. También se puede considerar el\n",
        "#movimiento o agitación ya que al mover rápidamente la solución propicia a\n",
        "#acelerar el proceso de solubilidad."
      ],
      "metadata": {
        "id": "fN70fCq0yUu8"
      },
      "execution_count": null,
      "outputs": []
    },
    {
      "cell_type": "code",
      "source": [
        "#PREGUNTA 12.7\n",
        "#Explique por qué el proceso de disolución invariablemente conduce a un aumento\n",
        "#en el desorden\n",
        "\n",
        "#Cuando una sustancia se disuelve en un solvente, ocurre un aumento en el\n",
        "#desorden del sistema. Esto sucede porque las partículas tienen más maneras de\n",
        "#distribuirse en el espacio. Este incremento en el desorden se conoce como la\n",
        "#ley de entropía (segunda ley de la termodinámica) favoreciendo a los procesos\n",
        "#que conducen a una mayor entropía."
      ],
      "metadata": {
        "id": "G4_4r3ii0I0f"
      },
      "execution_count": null,
      "outputs": []
    },
    {
      "cell_type": "code",
      "source": [
        "#PREGUNTA 12.11\n",
        "#Acomode los siguientes compuestos en orden creciente de solubilidad en agua:\n",
        "#O2, LiCl, Br2, metanol (CH3OH)\n",
        "\n",
        "#El orden sería el siguiente:\n",
        "\n",
        "#O2 < Br2 < CH3OH < LiCl\n",
        "\n",
        "#Este orden se da debido a que la solubilidad en el agua para estos compuestos\n",
        "#está determinada principalmente por la polaridad de estos mismos compuestos y\n",
        "#su capacidad para formar interacciones intermoleculares con el agua. Las\n",
        "#sustancias polares o iónicas como el LiCl tienden a ser más solubles en agua,\n",
        "#mientras que las sustancias no polares como el O2 tienen una solubilidad menor."
      ],
      "metadata": {
        "id": "jPB7Bu5R1vuZ"
      },
      "execution_count": null,
      "outputs": []
    }
  ]
}