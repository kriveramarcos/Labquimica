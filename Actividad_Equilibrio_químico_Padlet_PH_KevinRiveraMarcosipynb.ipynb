{
  "nbformat": 4,
  "nbformat_minor": 0,
  "metadata": {
    "colab": {
      "provenance": [],
      "include_colab_link": true
    },
    "kernelspec": {
      "name": "python3",
      "display_name": "Python 3"
    },
    "language_info": {
      "name": "python"
    }
  },
  "cells": [
    {
      "cell_type": "markdown",
      "metadata": {
        "id": "view-in-github",
        "colab_type": "text"
      },
      "source": [
        "<a href=\"https://colab.research.google.com/github/kriveramarcos/Labquimica/blob/main/Actividad_Equilibrio_qu%C3%ADmico_Padlet_PH_KevinRiveraMarcosipynb.ipynb\" target=\"_parent\"><img src=\"https://colab.research.google.com/assets/colab-badge.svg\" alt=\"Open In Colab\"/></a>"
      ]
    },
    {
      "cell_type": "markdown",
      "source": [
        "En este cuaderno tenemos 3 códigos que se encargan de hallar el índice de Ph de diferentes ácidos basado en su ecuación química"
      ],
      "metadata": {
        "id": "xMVSDGupZyC9"
      }
    },
    {
      "cell_type": "code",
      "source": [
        "!pip install chempy"
      ],
      "metadata": {
        "id": "gSetrR6WCAMx"
      },
      "execution_count": null,
      "outputs": []
    },
    {
      "cell_type": "markdown",
      "source": [
        "**PH DEL ÁCIDO FLUORHÍDRICO**"
      ],
      "metadata": {
        "id": "VXj1hBmvFHJ0"
      }
    },
    {
      "cell_type": "code",
      "source": [
        "import chempy\n",
        "from collections import defaultdict\n",
        "from chempy.equilibria import EqSystem\n",
        "from math import log10\n",
        "\n",
        "# Ecuación del ácido fluorhídrico\n",
        "eqsys = EqSystem.from_string(\"\"\"HF = H+ + F-; 10**-3.17\n",
        "  H2O = H+ + OH-; 10**-14/55.4\n",
        "  \"\"\")  # pKa(HF) = 3.17 & pKw=14\n",
        "\n",
        "# Resolvemos el sistema de ecuaciones\n",
        "arr, info, sane = eqsys.root(defaultdict(float, {'H2O': 55.4, 'HF': 1e-2}))\n",
        "\n",
        "# Diccionario de concentraciones\n",
        "conc = dict(zip(eqsys.substances, arr))\n",
        "\n",
        "# Ph del ácido fluorhídrico\n",
        "print(\"pH: %.2f\" % -log10(conc['H+']))"
      ],
      "metadata": {
        "colab": {
          "base_uri": "https://localhost:8080/"
        },
        "id": "hMiMpDRJFRwU",
        "outputId": "b48c9497-2b19-4aeb-f9ce-05eb7c233665"
      },
      "execution_count": 2,
      "outputs": [
        {
          "output_type": "stream",
          "name": "stdout",
          "text": [
            "pH: 2.64\n"
          ]
        }
      ]
    },
    {
      "cell_type": "markdown",
      "source": [
        "**PH DEL ÁCIDO ACÉTICO**"
      ],
      "metadata": {
        "id": "RSJvmtEqFK2a"
      }
    },
    {
      "cell_type": "code",
      "source": [
        "# Ecuación del ácido acético\n",
        "eqsys_acetico = EqSystem.from_string(\"\"\"CH3COOH = H+ + CH3COO-; 10**-4.76\n",
        "  H2O = H+ + OH-; 10**-14/55.4\n",
        "  \"\"\")  # pKa(CH3COOH) = 4.76 & pKw=14\n",
        "\n",
        "# Resolución del sistema de ecuaciones\n",
        "arr_acetico, info_acetico, sane_acetico = eqsys_acetico.root(defaultdict(float, {'H2O': 55.4, 'CH3COOH': 1e-2}))\n",
        "\n",
        "# Diccionario de concentraciones\n",
        "conc_acetico = dict(zip(eqsys_acetico.substances, arr_acetico))\n",
        "\n",
        "# Ph del ácido acético\n",
        "print(\"pH (Ácido Acético): %.2f\" % -log10(conc_acetico['H+']))"
      ],
      "metadata": {
        "colab": {
          "base_uri": "https://localhost:8080/"
        },
        "id": "Vm6MBu3iWbUX",
        "outputId": "b2c0839f-2c8a-428a-b9ea-583e042fb0c8"
      },
      "execution_count": 3,
      "outputs": [
        {
          "output_type": "stream",
          "name": "stdout",
          "text": [
            "pH (Ácido Acético): 3.39\n"
          ]
        }
      ]
    },
    {
      "cell_type": "markdown",
      "source": [
        "**PH DEL AMONIACO**"
      ],
      "metadata": {
        "id": "NNAN1jw6FLMI"
      }
    },
    {
      "cell_type": "code",
      "source": [
        "import chempy\n",
        "from collections import defaultdict\n",
        "from chempy.equilibria import EqSystem\n",
        "from math import log10\n",
        "\n",
        "# Ecuación para el amoníaco\n",
        "eqsys_amoniaco = EqSystem.from_string(\"\"\"NH3 + H2O = NH4+ + OH-; 10**-4.75\n",
        "  H2O = H+ + OH-; 10**-14/55.4\n",
        "  \"\"\")  # pKa(NH4+) = 9.25 & pKw=14\n",
        "\n",
        "# Resolución del sistema de ecuaciones\n",
        "arr_amoniaco, info_amoniaco, sane_amoniaco = eqsys_amoniaco.root(defaultdict(float, {'H2O': 55.4, 'NH3': 1e-2}))\n",
        "\n",
        "# Diccionario de concentraciones\n",
        "conc_amoniaco = dict(zip(eqsys_amoniaco.substances, arr_amoniaco))\n",
        "\n",
        "# Ph del amoniaco\n",
        "print(\"pH (Amoníaco): %.2f\" % -log10(conc_amoniaco['H+']))"
      ],
      "metadata": {
        "colab": {
          "base_uri": "https://localhost:8080/"
        },
        "id": "hkuCUCHEFVBi",
        "outputId": "7a18e5b6-4d9e-427d-b9fa-94191fbd305a"
      },
      "execution_count": 4,
      "outputs": [
        {
          "output_type": "stream",
          "name": "stdout",
          "text": [
            "pH (Amoníaco): 11.43\n"
          ]
        }
      ]
    }
  ]
}